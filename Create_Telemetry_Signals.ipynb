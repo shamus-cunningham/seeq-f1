{
 "cells": [
  {
   "cell_type": "code",
   "execution_count": 1,
   "metadata": {},
   "outputs": [],
   "source": [
    "import pandas as pd\n",
    "from seeq import spy\n",
    "import livef1"
   ]
  },
  {
   "cell_type": "code",
   "execution_count": 2,
   "metadata": {},
   "outputs": [],
   "source": [
    "# Constants\n",
    "\n",
    "# Workbook name will scope all the signals to a particular workbook, Change to None if you want them \n",
    "# globally soped and available in any workbook \n",
    "\n",
    "WORKBOOK_NAME = 'F1 Telemetry Testing'\n",
    "DATASOURCE_NAME = 'F1 Telemetry Playground'\n",
    "SESSION_CONDITION_NAME = 'F1 Sessions'\n",
    "CURRENT_SEASON = 2025\n"
   ]
  },
  {
   "cell_type": "code",
   "execution_count": 3,
   "metadata": {},
   "outputs": [],
   "source": [
    "def add_capsule_start_end_session_df (df):\n",
    "    df['session_startDate'] = pd.to_datetime(df['session_startDate'])\n",
    "    df['gmtoffset'] = pd.to_timedelta(df['gmtoffset'])\n",
    "    df['Capsule Start'] = (df['session_startDate'] + df['gmtoffset'])\n",
    "    df['Capsule End'] = (df['session_endDate'] + df['gmtoffset'])\n",
    "    df['Capsule Start'] = pd.to_datetime(df['Capsule Start'], utc=True)\n",
    "    df['Capsule End'] = pd.to_datetime(df['Capsule End'], utc=True)\n",
    "    return df\n",
    "\n",
    "def set_signals_max_interpolation():\n",
    "    scoped_workbook_id = None\n",
    "    if WORKBOOK_NAME != None:\n",
    "        scoped_workbook = spy.search({'Name':WORKBOOK_NAME, 'Type':'Workbook'})\n",
    "        scoped_workbook_id = scoped_workbook['ID'][0]\n",
    "    \n",
    "    telemetry_signals = spy.search({'Name':'20??.*.*.*','Type':'Signal','Scoped To':scoped_workbook_id})\n",
    "    metadata = telemetry_signals.copy()\n",
    "    metadata['Maximum Interpolation'] = '5 min'\n",
    "    # Push the updated metadata back to Seeq\n",
    "    spy.push(metadata=metadata)\n",
    "    \n",
    "\n",
    "\n",
    "def get_session_data(current_time):\n",
    "    \"\"\"Fetch session data from Seeq.\"\"\"\n",
    "    scoped_workbook_id = None\n",
    "    if WORKBOOK_NAME != None:\n",
    "        scoped_workbook = spy.search({'Name':WORKBOOK_NAME, 'Type':'Workbook'})\n",
    "        scoped_workbook_id = scoped_workbook['ID'][0]\n",
    "        \n",
    "    posted_session_condition = spy.search({'Name': SESSION_CONDITION_NAME, 'Datasource Name': DATASOURCE_NAME, 'Scoped To':scoped_workbook_id})\n",
    "    posted_sessions = spy.pull(posted_session_condition, start='2023-01-01T00:00:00Z', end=current_time)\n",
    "    return posted_sessions[posted_sessions['Capsule End'] < current_time]\n",
    "\n",
    "def filter_sessions(sessions_df, posted_sessions):\n",
    "    \"\"\"Filter sessions that have not been processed yet.\"\"\"\n",
    "    return sessions_df[~sessions_df['session_key'].isin(posted_sessions['session_key'])]\n",
    "\n",
    "def process_telemetry_data(telemetry_data, current_season, current_team_name, current_driver_no):\n",
    "    \"\"\"Process telemetry data for a specific driver.\"\"\"\n",
    "    telemetry_data = telemetry_data.dropna(subset=['DriverNo'])\n",
    "    telemetry_data['DriverNo'] = pd.to_numeric(telemetry_data['DriverNo'], errors='coerce').astype('Int64')\n",
    "    telemetry_data = telemetry_data.drop(columns=['SessionKey', 'DriverNo', 'timestamp'])\n",
    "    telemetry_data['Utc'] = pd.to_datetime(telemetry_data['Utc'])\n",
    "    telemetry_data = telemetry_data.set_index('Utc')\n",
    "\n",
    "    # Rename columns\n",
    "    telemetry_data.columns = [\n",
    "        f\"{current_season}.{current_team_name}.{current_driver_no}.{col}\" for col in telemetry_data.columns\n",
    "    ]\n",
    "    return telemetry_data\n",
    "\n",
    "def process_laps_data(laps_data, current_team_name, current_driver_name):\n",
    "    \"\"\"Process laps data for a specific driver.\"\"\"\n",
    "    laps_data = laps_data.dropna(subset=['lap_time'])\n",
    "    laps_data['team_name'] = current_team_name\n",
    "    laps_data['current_driver_name'] = current_driver_name\n",
    "    return laps_data\n",
    "\n",
    "def create_sector_capsules(laps_data, sector_number):\n",
    "    \"\"\"Create sector capsules for a specific sector.\"\"\"\n",
    "    sector_caps = laps_data.copy()\n",
    "    \n",
    "    if sector_number == 1:\n",
    "        sector_caps['Capsule Start'] = sector_caps['lap_start_date']\n",
    "        sector_caps['Capsule End'] = sector_caps['Capsule Start'] + sector_caps['sector1_time']\n",
    "    if sector_number == 2:\n",
    "        sector_caps['Capsule Start'] = sector_caps['lap_start_date'] + sector_caps['sector1_time']\n",
    "        sector_caps['Capsule End'] = sector_caps['Capsule Start'] + sector_caps['sector2_time']\n",
    "    if sector_number == 3:\n",
    "        sector_caps['Capsule Start'] = sector_caps['lap_start_date']+sector_caps['sector1_time']+sector_caps['sector2_time']\n",
    "        sector_caps['Capsule End'] = sector_caps['Capsule Start'] + sector_caps['sector3_time']\n",
    "    \n",
    "    sector_caps['Sector'] = sector_number\n",
    "    sector_caps = sector_caps[['lap_number', 'in_pit', 'DriverNo', 'Capsule Start', 'Capsule End', 'Sector', 'team_name', 'current_driver_name']]\n",
    "    return sector_caps.dropna(subset=['Capsule Start', 'Capsule End'])\n",
    "\n",
    "def push_telemetry_data(telemetry_data):\n",
    "    \"\"\"Push telemetry data to Seeq.\"\"\"\n",
    "    spy.push(data=telemetry_data, workbook=WORKBOOK_NAME, datasource=DATASOURCE_NAME)\n",
    "\n",
    "def push_sector_data(all_sectors, current_season, current_team_name, current_driver_no):\n",
    "    \"\"\"Push sector data to Seeq.\"\"\"\n",
    "    metadata = pd.DataFrame([{\n",
    "        'Name': f\"{current_season}.{current_team_name}.{current_driver_no}.Sectors\",\n",
    "        'Type': 'Condition',\n",
    "        'Maximum Duration': '5 min',\n",
    "    }])\n",
    "    spy.push(data=all_sectors, metadata=metadata, workbook=WORKBOOK_NAME, datasource=DATASOURCE_NAME)\n",
    "\n",
    "def process_session(session, session_key, car_number_info, current_season):\n",
    "    \"\"\"Process a single session.\"\"\"\n",
    "    laps_data = session.get_laps()\n",
    "    laps_data = laps_data.dropna(subset = ['DriverNo'])\n",
    "    laps_data['DriverNo'] = pd.to_numeric(laps_data['DriverNo'], errors='coerce').astype('Int64')\n",
    "    \n",
    "    telemetry_data = session.get_car_telemetry()\n",
    "    telemetry_data = telemetry_data.dropna(subset = ['DriverNo'])\n",
    "    telemetry_data['DriverNo'] = pd.to_numeric(telemetry_data['DriverNo'], errors='coerce').astype('Int64')\n",
    "    \n",
    "\n",
    "\n",
    "    cars_in_session = telemetry_data.DriverNo.unique()\n",
    "    cars_pushed = 0\n",
    "\n",
    "    current_session_key\n",
    "\n",
    "    for current_driver_no in cars_in_session:\n",
    "        try:\n",
    "            matching_row = car_number_info[\n",
    "                (car_number_info['MinSessionKey'] <= session_key) &\n",
    "                (car_number_info['MaxSessionKey'] >= session_key) &\n",
    "                (car_number_info['DriverNo'] == current_driver_no)\n",
    "            ]\n",
    "    \n",
    "            current_team_name = matching_row['TeamName'].values[0] if not matching_row.empty else None\n",
    "            current_driver_name = matching_row['DriverName'].values[0] if not matching_row.empty else None\n",
    "    \n",
    "            # Process telemetry data\n",
    "            driver_telemetry_data = process_telemetry_data(telemetry_data[telemetry_data.DriverNo == current_driver_no], current_season, current_team_name, current_driver_no)\n",
    "            push_telemetry_data(driver_telemetry_data)\n",
    "    \n",
    "            # Process laps data\n",
    "            driver_laps_data = process_laps_data(laps_data[laps_data.DriverNo == current_driver_no], current_team_name, current_driver_name)\n",
    "    \n",
    "            # Create sector capsules\n",
    "            sector_1_caps = create_sector_capsules(driver_laps_data, 1)\n",
    "            sector_2_caps = create_sector_capsules(driver_laps_data, 2)\n",
    "            sector_3_caps = create_sector_capsules(driver_laps_data, 3)\n",
    "    \n",
    "            all_sectors = pd.concat([sector_1_caps, sector_2_caps, sector_3_caps], ignore_index=True)\n",
    "            push_sector_data(all_sectors, current_season, current_team_name, current_driver_no)\n",
    "    \n",
    "            cars_pushed += 1\n",
    "        except:\n",
    "            print(f\"Skipping car {current_driver_no} driver {current_driver_name} due to error: {e}\")\n",
    "        continue\n",
    "\n",
    "    return cars_pushed\n",
    "\n"
   ]
  },
  {
   "cell_type": "code",
   "execution_count": 4,
   "metadata": {},
   "outputs": [],
   "source": [
    "\"\"\"Main function to process sessions.\"\"\"\n",
    "current_time = pd.Timestamp.now(tz='UTC')\n",
    "\n",
    "# Load season and car information\n",
    "season = livef1.get_season(CURRENT_SEASON)\n",
    "season.parse_sessions()\n",
    "sessions_df = season.season_table\n",
    "car_number_info = pd.read_csv(\"data/CarTeamMap.csv\")"
   ]
  },
  {
   "cell_type": "code",
   "execution_count": 8,
   "metadata": {},
   "outputs": [
    {
     "data": {
      "text/html": [
       "<div style=\"background-color: #EEFFEE;color:black; text-align: left;\">Pull successful from <strong>2023-01-01 00:00:00+00:00</strong> to <strong>2025-04-04 03:52:16.588306+00:00</strong></div><table class=\"tex2jax_ignore\" style=\"color:black;\"><tr><td style=\"background-color: #EEFFEE;\"></td><td style=\"background-color: #EEFFEE; text-align: left;\">ID</td><td style=\"background-color: #EEFFEE; text-align: left;\">Type</td><td style=\"background-color: #EEFFEE; text-align: left;\">Name</td><td style=\"background-color: #EEFFEE; text-align: right;\">Time</td><td style=\"background-color: #EEFFEE; text-align: right;\">Count</td><td style=\"background-color: #EEFFEE; text-align: right;\">Pages</td><td style=\"background-color: #EEFFEE; text-align: left;\">Data Processed</td><td style=\"background-color: #EEFFEE; text-align: left;\">Result</td></tr><tr style=\"background-color: #EEFFEE;\"><td style=\"vertical-align: top;\">0</td><td style=\"text-align: left; vertical-align: top;\">0F010C5F-6AC8-EAF0-AB3C-1A6BD5CE532B</td><td style=\"text-align: left; vertical-align: top;\">StoredCondition</td><td style=\"text-align: left; vertical-align: top;\">F1 Sessions</td><td style=\"vertical-align: top;\">00:00:00.03</td><td style=\"text-align: right; vertical-align: top;\">13</td><td style=\"text-align: right; vertical-align: top;\">1</td><td style=\"text-align: right; vertical-align: top;\">832 B</td><td style=\"text-align: left; vertical-align: top;\">Success</td></tr></table>"
      ],
      "text/plain": [
       "<IPython.core.display.HTML object>"
      ]
     },
     "metadata": {},
     "output_type": "display_data"
    },
    {
     "data": {
      "text/plain": [
       "0"
      ]
     },
     "execution_count": 8,
     "metadata": {},
     "output_type": "execute_result"
    }
   ],
   "source": [
    "try:\n",
    "    posted_sessions = get_session_data(current_time)\n",
    "    filtered_sessions = filter_sessions(sessions_df, posted_sessions)\n",
    "\n",
    "except Exception as e:\n",
    "    print(f\"No prior sessions have been uploaded posting all sessions - error text: {e}\")\n",
    "    filtered_sessions = sessions_df\n",
    "\n",
    "filtered_sessions = add_capsule_start_end_session_df(filtered_sessions)\n",
    "filtered_sessions"
   ]
  },
  {
   "cell_type": "code",
   "execution_count": 7,
   "metadata": {},
   "outputs": [],
   "source": [
    "for index, row in filtered_sessions.iterrows():\n",
    "    current_session_key = row['session_key']\n",
    "    session = livef1.get_session(season=CURRENT_SEASON, meeting_key=index, session_key=current_session_key)\n",
    "    session_generated = False\n",
    "    try:\n",
    "        session.generate(silver=True)\n",
    "        session_generated = True\n",
    "    except Exception as e:\n",
    "        print(f\"Skipping session {row['session_key']} due to error: {e}\")\n",
    "        continue\n",
    "        \n",
    "    if session_generated:\n",
    "        \n",
    "        cars_pushed = process_session(session,current_session_key,car_number_info, CURRENT_SEASON)\n",
    "\n",
    "        if cars_pushed > 0:\n",
    "            # Push session metadata\n",
    "\n",
    "            keep_cols = [\n",
    "                \"Capsule Start\", \n",
    "                \"Capsule End\",\n",
    "                \"index\", \n",
    "                \"season_year\",\n",
    "                \"meeting_location\",\n",
    "                \"meeting_offname\",\n",
    "                \"meeting_name\",\n",
    "                \"meeting_country_name\",\n",
    "                \"meeting_circuit_shortname\",\n",
    "                \"session_key\",\n",
    "                \"session_type\",\n",
    "                \"session_name\"]\n",
    "            \n",
    "            session_capsule = pd.DataFrame([row]).reset_index()\n",
    "            session_capsule = session_capsule[keep_cols]\n",
    "            session_capsule = session_capsule.rename(columns={'index': 'meeting_key'})\n",
    "            \n",
    "            spy.push(data=session_capsule, metadata=pd.DataFrame([{\n",
    "                'Name': SESSION_CONDITION_NAME,\n",
    "                'Type': 'Condition',\n",
    "                'Maximum Duration': '7d',\n",
    "            }]), workbook=WORKBOOK_NAME, datasource=DATASOURCE_NAME)\n",
    "\n",
    "\n",
    "    "
   ]
  },
  {
   "cell_type": "code",
   "execution_count": 10,
   "metadata": {},
   "outputs": [
    {
     "data": {
      "text/html": [
       "<div style=\"background-color: #EEFFEE;color:black; text-align: left;\">Scheduled the notebook <strong>seeq-f1/Refcator_Create_Telemetry.ipynb</strong> successfully.<br>Current context is <strong>INTERACTIVE</strong>.  The jobs DataFrame was stored to seeq-f1/_Job DataFrames/Refcator_Create_Telemetry.pkl</div><table class=\"tex2jax_ignore\" style=\"color:black;\"><tr><td style=\"background-color: #EEFFEE;\"></td><td style=\"background-color: #EEFFEE; text-align: left;\">Schedule</td><td style=\"background-color: #EEFFEE; text-align: left;\">Scheduled</td><td style=\"background-color: #EEFFEE; text-align: left;\">Next Run</td></tr><tr style=\"background-color: #EEFFEE;\"><td style=\"vertical-align: top;\">0</td><td style=\"text-align: left; vertical-align: top;\">Every 1 Hour</td><td style=\"text-align: left; vertical-align: top;\">Every hour</td><td style=\"text-align: left; vertical-align: top;\">2025-04-03 21:00:00 PDT</td></tr></table>"
      ],
      "text/plain": [
       "<IPython.core.display.HTML object>"
      ]
     },
     "metadata": {},
     "output_type": "display_data"
    },
    {
     "data": {
      "text/html": [
       "<div>\n",
       "<style scoped>\n",
       "    .dataframe tbody tr th:only-of-type {\n",
       "        vertical-align: middle;\n",
       "    }\n",
       "\n",
       "    .dataframe tbody tr th {\n",
       "        vertical-align: top;\n",
       "    }\n",
       "\n",
       "    .dataframe thead th {\n",
       "        text-align: right;\n",
       "    }\n",
       "</style>\n",
       "<table border=\"1\" class=\"dataframe\">\n",
       "  <thead>\n",
       "    <tr style=\"text-align: right;\">\n",
       "      <th></th>\n",
       "      <th>Schedule</th>\n",
       "      <th>Scheduled</th>\n",
       "      <th>Next Run</th>\n",
       "    </tr>\n",
       "  </thead>\n",
       "  <tbody>\n",
       "    <tr>\n",
       "      <th>0</th>\n",
       "      <td>Every 1 Hour</td>\n",
       "      <td>Every hour</td>\n",
       "      <td>2025-04-03 21:00:00 PDT</td>\n",
       "    </tr>\n",
       "  </tbody>\n",
       "</table>\n",
       "</div>"
      ],
      "text/plain": [
       "       Schedule   Scheduled                 Next Run\n",
       "0  Every 1 Hour  Every hour  2025-04-03 21:00:00 PDT"
      ]
     },
     "execution_count": 10,
     "metadata": {},
     "output_type": "execute_result"
    }
   ],
   "source": [
    "spy.jobs.schedule('Every 1 Hour')"
   ]
  },
  {
   "cell_type": "code",
   "execution_count": null,
   "metadata": {},
   "outputs": [],
   "source": []
  }
 ],
 "metadata": {
  "kernelspec": {
   "display_name": "Python 3.11",
   "language": "python",
   "name": "python311"
  },
  "language_info": {
   "codemirror_mode": {
    "name": "ipython",
    "version": 3
   },
   "file_extension": ".py",
   "mimetype": "text/x-python",
   "name": "python",
   "nbconvert_exporter": "python",
   "pygments_lexer": "ipython3",
   "version": "3.11.11"
  }
 },
 "nbformat": 4,
 "nbformat_minor": 4
}
